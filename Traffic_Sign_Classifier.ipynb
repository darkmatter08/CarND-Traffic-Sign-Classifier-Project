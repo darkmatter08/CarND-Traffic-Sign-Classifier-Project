{
 "cells": [
  {
   "cell_type": "markdown",
   "metadata": {},
   "source": [
    "# Self-Driving Car Engineer Nanodegree\n",
    "\n",
    "## Deep Learning\n",
    "\n",
    "## Project: Build a Traffic Sign Recognition Classifier\n",
    "\n",
    "In this notebook, a template is provided for you to implement your functionality in stages which is required to successfully complete this project. If additional code is required that cannot be included in the notebook, be sure that the Python code is successfully imported and included in your submission, if necessary. Sections that begin with **'Implementation'** in the header indicate where you should begin your implementation for your project. Note that some sections of implementation are optional, and will be marked with **'Optional'** in the header.\n",
    "\n",
    "In addition to implementing code, there will be questions that you must answer which relate to the project and your implementation. Each section where you will answer a question is preceded by a **'Question'** header. Carefully read each question and provide thorough answers in the following text boxes that begin with **'Answer:'**. Your project submission will be evaluated based on your answers to each of the questions and the implementation you provide.\n",
    "\n",
    ">**Note:** Code and Markdown cells can be executed using the **Shift + Enter** keyboard shortcut. In addition, Markdown cells can be edited by typically double-clicking the cell to enter edit mode."
   ]
  },
  {
   "cell_type": "markdown",
   "metadata": {},
   "source": [
    "---\n",
    "## Step 0: Load The Data"
   ]
  },
  {
   "cell_type": "code",
   "execution_count": 36,
   "metadata": {
    "collapsed": false
   },
   "outputs": [
    {
     "name": "stdout",
     "output_type": "stream",
     "text": [
      "Done\n"
     ]
    }
   ],
   "source": [
    "# Load pickled data\n",
    "import pickle\n",
    "\n",
    "# TODO: Fill this in based on where you saved the training and testing data\n",
    "BASE_PATH = './'\n",
    "DATA_FOLDER = BASE_PATH + 'traffic-signs-data/'\n",
    "training_file = DATA_FOLDER + 'train.p'\n",
    "testing_file = DATA_FOLDER + 'test.p'\n",
    "\n",
    "with open(training_file, mode='rb') as f:\n",
    "    train = pickle.load(f)\n",
    "with open(testing_file, mode='rb') as f:\n",
    "    test = pickle.load(f)\n",
    "    \n",
    "X_train, y_train = train['features'], train['labels']\n",
    "X_test, y_test = test['features'], test['labels']\n",
    "\n",
    "print('Done')"
   ]
  },
  {
   "cell_type": "code",
   "execution_count": 37,
   "metadata": {
    "collapsed": false
   },
   "outputs": [
    {
     "data": {
      "text/plain": [
       "(39209, 32, 32, 3)"
      ]
     },
     "execution_count": 37,
     "metadata": {},
     "output_type": "execute_result"
    }
   ],
   "source": [
    "X_train.shape"
   ]
  },
  {
   "cell_type": "code",
   "execution_count": 38,
   "metadata": {
    "collapsed": false
   },
   "outputs": [
    {
     "name": "stdout",
     "output_type": "stream",
     "text": [
      "['0', 'Speed limit (20km/h)']\n",
      "['1', 'Speed limit (30km/h)']\n",
      "['2', 'Speed limit (50km/h)']\n",
      "['3', 'Speed limit (60km/h)']\n",
      "['4', 'Speed limit (70km/h)']\n",
      "['5', 'Speed limit (80km/h)']\n",
      "['6', 'End of speed limit (80km/h)']\n",
      "['7', 'Speed limit (100km/h)']\n",
      "['8', 'Speed limit (120km/h)']\n",
      "['9', 'No passing']\n",
      "['10', 'No passing for vehicles over 3.5 metric tons']\n",
      "['11', 'Right-of-way at the next intersection']\n",
      "['12', 'Priority road']\n",
      "['13', 'Yield']\n",
      "['14', 'Stop']\n",
      "['15', 'No vehicles']\n",
      "['16', 'Vehicles over 3.5 metric tons prohibited']\n",
      "['17', 'No entry']\n",
      "['18', 'General caution']\n",
      "['19', 'Dangerous curve to the left']\n",
      "['20', 'Dangerous curve to the right']\n",
      "['21', 'Double curve']\n",
      "['22', 'Bumpy road']\n",
      "['23', 'Slippery road']\n",
      "['24', 'Road narrows on the right']\n",
      "['25', 'Road work']\n",
      "['26', 'Traffic signals']\n",
      "['27', 'Pedestrians']\n",
      "['28', 'Children crossing']\n",
      "['29', 'Bicycles crossing']\n",
      "['30', 'Beware of ice/snow']\n",
      "['31', 'Wild animals crossing']\n",
      "['32', 'End of all speed and passing limits']\n",
      "['33', 'Turn right ahead']\n",
      "['34', 'Turn left ahead']\n",
      "['35', 'Ahead only']\n",
      "['36', 'Go straight or right']\n",
      "['37', 'Go straight or left']\n",
      "['38', 'Keep right']\n",
      "['39', 'Keep left']\n",
      "['40', 'Roundabout mandatory']\n",
      "['41', 'End of no passing']\n",
      "['42', 'End of no passing by vehicles over 3.5 metric tons']\n"
     ]
    }
   ],
   "source": [
    "import csv\n",
    "\n",
    "categories = []\n",
    "signnames_file = BASE_PATH + 'signnames.csv'\n",
    "with open(signnames_file) as f:\n",
    "    reader = csv.reader(f)\n",
    "    next(reader)\n",
    "    for row in reader:\n",
    "        print(row)\n",
    "        categories.append(row[1])\n",
    "        assert categories.index(row[1]) == int(row[0])"
   ]
  },
  {
   "cell_type": "markdown",
   "metadata": {},
   "source": [
    "---\n",
    "\n",
    "## Step 1: Dataset Summary & Exploration\n",
    "\n",
    "The pickled data is a dictionary with 4 key/value pairs:\n",
    "\n",
    "- `'features'` is a 4D array containing raw pixel data of the traffic sign images, (num examples, width, height, channels).\n",
    "- `'labels'` is a 2D array containing the label/class id of the traffic sign. The file `signnames.csv` contains id -> name mappings for each id.\n",
    "- `'sizes'` is a list containing tuples, (width, height) representing the the original width and height the image.\n",
    "- `'coords'` is a list containing tuples, (x1, y1, x2, y2) representing coordinates of a bounding box around the sign in the image. **THESE COORDINATES ASSUME THE ORIGINAL IMAGE. THE PICKLED DATA CONTAINS RESIZED VERSIONS (32 by 32) OF THESE IMAGES**\n",
    "\n",
    "Complete the basic data summary below."
   ]
  },
  {
   "cell_type": "code",
   "execution_count": 39,
   "metadata": {
    "collapsed": false
   },
   "outputs": [
    {
     "name": "stdout",
     "output_type": "stream",
     "text": [
      "Number of training examples = 39209\n",
      "Number of testing examples = 12630\n",
      "Image data shape = (32, 32)\n",
      "Number of classes = 43\n"
     ]
    }
   ],
   "source": [
    "### Replace each question mark with the appropriate value.\n",
    "\n",
    "# TODO: Number of training examples\n",
    "n_train = len(X_train)\n",
    "\n",
    "# TODO: Number of testing examples.\n",
    "n_test = len(X_test)\n",
    "\n",
    "# TODO: What's the shape of an traffic sign image?\n",
    "image_shape = X_train.shape[1], X_train.shape[2]\n",
    "\n",
    "# TODO: How many unique classes/labels there are in the dataset.\n",
    "n_classes = 43 # from signnames.csv\n",
    "\n",
    "print(\"Number of training examples =\", n_train)\n",
    "print(\"Number of testing examples =\", n_test)\n",
    "print(\"Image data shape =\", image_shape)\n",
    "print(\"Number of classes =\", n_classes)"
   ]
  },
  {
   "cell_type": "markdown",
   "metadata": {},
   "source": [
    "Visualize the German Traffic Signs Dataset using the pickled file(s). This is open ended, suggestions include: plotting traffic sign images, plotting the count of each sign, etc.\n",
    "\n",
    "The [Matplotlib](http://matplotlib.org/) [examples](http://matplotlib.org/examples/index.html) and [gallery](http://matplotlib.org/gallery.html) pages are a great resource for doing visualizations in Python.\n",
    "\n",
    "**NOTE:** It's recommended you start with something simple first. If you wish to do more, come back to it after you've completed the rest of the sections."
   ]
  },
  {
   "cell_type": "code",
   "execution_count": 40,
   "metadata": {
    "collapsed": false
   },
   "outputs": [
    {
     "data": {
      "image/png": "[encoded data removed]",
      "text/plain": [
       "<matplotlib.figure.Figure at 0x7f07f2437fd0>"
      ]
     },
     "metadata": {},
     "output_type": "display_data"
    }
   ],
   "source": [
    "### Data exploration visualization goes here.\n",
    "### Feel free to use as many code cells as needed.\n",
    "import matplotlib.pyplot as plt\n",
    "# import matplotlib.image as mpimg\n",
    "# Visualizations will be shown in the notebook.\n",
    "%matplotlib inline\n",
    "\n",
    "def mkplt(idx, disp_idx):\n",
    "    plt.subplot(1, 4, disp_idx)\n",
    "    plt.title('Category: ' + str(y_train[idx]))\n",
    "    plt.axis(\"off\")\n",
    "    plt.imshow(X_train[idx])\n",
    "\n",
    "mkplt(51, 1)\n",
    "mkplt(303, 2)\n",
    "mkplt(751, 3)\n",
    "mkplt(1000, 4)"
   ]
  },
  {
   "cell_type": "code",
   "execution_count": 41,
   "metadata": {
    "collapsed": false
   },
   "outputs": [
    {
     "data": {
      "image/png": "[encoded data removed]",
      "text/plain": [
       "<matplotlib.figure.Figure at 0x7f07f2637b38>"
      ]
     },
     "metadata": {},
     "output_type": "display_data"
    }
   ],
   "source": [
    "# Count the number of examples for each category\n",
    "from collections import defaultdict\n",
    "\n",
    "counts = defaultdict(int)\n",
    "for datum in y_train:\n",
    "    counts[datum] += 1\n",
    "\n",
    "positions = []#list(xrange(len(counts)))\n",
    "numbers = []\n",
    "\n",
    "for i in range(len(counts)):\n",
    "    positions.append(i)\n",
    "    numbers.append(counts[i])\n",
    "\n",
    "plt.figure(figsize=(15,5))\n",
    "plt.bar(positions, numbers)\n",
    "plt.title('Number of Samples per category in training set')\n",
    "plt.xticks(positions, positions)\n",
    "plt.xlabel('Category')\n",
    "plt.show()"
   ]
  },
  {
   "cell_type": "code",
   "execution_count": 42,
   "metadata": {
    "collapsed": false
   },
   "outputs": [],
   "source": [
    "def make_one_hot(vec):\n",
    "    y_train_one_hot = []\n",
    "    for y in vec:\n",
    "        one_hot = [0] * n_classes\n",
    "        one_hot[y] = 1\n",
    "        y_train_one_hot.append(one_hot)\n",
    "    assert len(vec) == len(y_train_one_hot)\n",
    "    return y_train_one_hot\n",
    "\n",
    "y_train_one_hot = make_one_hot(y_train)\n",
    "y_test_one_hot = make_one_hot(y_test)"
   ]
  },
  {
   "cell_type": "markdown",
   "metadata": {},
   "source": [
    "----\n",
    "\n",
    "## Step 2: Design and Test a Model Architecture\n",
    "\n",
    "Design and implement a deep learning model that learns to recognize traffic signs. Train and test your model on the [German Traffic Sign Dataset](http://benchmark.ini.rub.de/?section=gtsrb&subsection=dataset).\n",
    "\n",
    "There are various aspects to consider when thinking about this problem:\n",
    "\n",
    "- Neural network architecture\n",
    "- Play around preprocessing techniques (normalization, rgb to grayscale, etc)\n",
    "- Number of examples per label (some have more than others).\n",
    "- Generate fake data.\n",
    "\n",
    "Here is an example of a [published baseline model on this problem](http://yann.lecun.com/exdb/publis/pdf/sermanet-ijcnn-11.pdf). It's not required to be familiar with the approach used in the paper but, it's good practice to try to read papers like these.\n",
    "\n",
    "**NOTE:** The LeNet-5 implementation shown in the [classroom](https://classroom.udacity.com/nanodegrees/nd013/parts/fbf77062-5703-404e-b60c-95b78b2f3f9e/modules/6df7ae49-c61c-4bb2-a23e-6527e69209ec/lessons/601ae704-1035-4287-8b11-e2c2716217ad/concepts/d4aca031-508f-4e0b-b493-e7b706120f81) at the end of the CNN lesson is a solid starting point. You'll have to change the number of classes and possibly the preprocessing, but aside from that it's plug and play!"
   ]
  },
  {
   "cell_type": "markdown",
   "metadata": {},
   "source": [
    "### Implementation\n",
    "\n",
    "Use the code cell (or multiple code cells, if necessary) to implement the first step of your project. Once you have completed your implementation and are satisfied with the results, be sure to thoroughly answer the questions that follow."
   ]
  },
  {
   "cell_type": "code",
   "execution_count": 43,
   "metadata": {
    "collapsed": false
   },
   "outputs": [],
   "source": [
    "### Preprocess the data here.\n",
    "### Feel free to use as many code cells as needed.\n",
    "\n",
    "import tensorflow as tf"
   ]
  },
  {
   "cell_type": "markdown",
   "metadata": {},
   "source": [
    "### Question 1 \n",
    "\n",
    "_Describe how you preprocessed the data. Why did you choose that technique?_"
   ]
  },
  {
   "cell_type": "markdown",
   "metadata": {},
   "source": [
    "**Answer:**"
   ]
  },
  {
   "cell_type": "code",
   "execution_count": 44,
   "metadata": {
    "collapsed": true
   },
   "outputs": [],
   "source": [
    "### Generate data additional data (OPTIONAL!)\n",
    "### and split the data into training/validation/testing sets here.\n",
    "### Feel free to use as many code cells as needed.\n",
    "\n",
    "# Shuffle data\n",
    "from sklearn.utils import shuffle\n",
    "\n",
    "X_train, y_train_one_hot = shuffle(X_train, y_train_one_hot)"
   ]
  },
  {
   "cell_type": "code",
   "execution_count": 45,
   "metadata": {
    "collapsed": false
   },
   "outputs": [
    {
     "data": {
      "text/plain": [
       "<matplotlib.text.Text at 0x7f07ed721eb8>"
      ]
     },
     "execution_count": 45,
     "metadata": {},
     "output_type": "execute_result"
    },
    {
     "data": {
      "image/png": "[encoded data removed]",
      "text/plain": [
       "<matplotlib.figure.Figure at 0x7f07f2768278>"
      ]
     },
     "metadata": {},
     "output_type": "display_data"
    }
   ],
   "source": [
    "import numpy\n",
    "\n",
    "idx = 989+6\n",
    "plt.imshow(X_train[idx])\n",
    "plt.title(categories[numpy.argmax(y_train_one_hot[idx])])"
   ]
  },
  {
   "cell_type": "markdown",
   "metadata": {},
   "source": [
    "### Question 2\n",
    "\n",
    "_Describe how you set up the training, validation and testing data for your model. **Optional**: If you generated additional data, how did you generate the data? Why did you generate the data? What are the differences in the new dataset (with generated data) from the original dataset?_"
   ]
  },
  {
   "cell_type": "markdown",
   "metadata": {},
   "source": [
    "**Answer:**"
   ]
  },
  {
   "cell_type": "code",
   "execution_count": 46,
   "metadata": {
    "collapsed": true
   },
   "outputs": [],
   "source": [
    "### Define your architecture here.\n",
    "### Feel free to use as many code cells as needed."
   ]
  },
  {
   "cell_type": "markdown",
   "metadata": {},
   "source": [
    "#### Data Parameters"
   ]
  },
  {
   "cell_type": "code",
   "execution_count": 47,
   "metadata": {
    "collapsed": true
   },
   "outputs": [],
   "source": [
    "NCHAN = 3\n",
    "IMSZ = X_SZ = Y_SZ = 32"
   ]
  },
  {
   "cell_type": "markdown",
   "metadata": {},
   "source": [
    "#### Helper Functions"
   ]
  },
  {
   "cell_type": "code",
   "execution_count": 48,
   "metadata": {
    "collapsed": true
   },
   "outputs": [],
   "source": [
    "def var(shape):\n",
    "    # stddev=0.01 is essential to making the network converge properly here\n",
    "    return tf.Variable(tf.truncated_normal(shape, stddev=0.01))\n",
    "\n",
    "def maxpool_1_1(layer):\n",
    "    return tf.nn.max_pool(layer, [1, 2, 2, 1], [1, 2, 2, 1], padding='SAME')\n",
    "\n",
    "# LRN PREVENTS convergence or achieving accuracy above 30-40%\n",
    "def _lrn(layer):\n",
    "    return tf.nn.local_response_normalization(\n",
    "        layer, 4, bias=1.0, alpha=0.001 / 9.0, beta=0.75)\n",
    "\n",
    "def lrn(layer):\n",
    "    return layer"
   ]
  },
  {
   "cell_type": "markdown",
   "metadata": {},
   "source": [
    "#### Define Network"
   ]
  },
  {
   "cell_type": "code",
   "execution_count": 55,
   "metadata": {
    "collapsed": false
   },
   "outputs": [],
   "source": [
    "# HYPERPARAMETERS\n",
    "batch_size = 2048\n",
    "\n",
    "# NET ARCHITECTURE\n",
    "# INPUT [batch_size, 24, 24, 3]\n",
    "\n",
    "# c1w 5x5 filter, 64 filters, stride=1 [5, 5, 3, 64]\n",
    "# CONV1 [batch_size, 24, 24, 64]\n",
    "# RELU\n",
    "# NORM1 (lrn)\n",
    "# POOL1 2x2 kernel, stride 2 [batch_size, 12, 12, 64]\n",
    "\n",
    "# c2w 5x5 filter, 64 filters, stride=1 [5, 5, 64, 64]\n",
    "# CONV2 [batch_size, 12, 12, 64]\n",
    "# RELU\n",
    "# NORM2 (lrn)\n",
    "# POOL2 2x2 kernel, stride 2 [batch_size, 6, 6, 64]\n",
    "\n",
    "# RESHAPE into [batch_size, 6*6*64]\n",
    "\n",
    "# fc1w [-1(=6*6*64), 128]\n",
    "# FC1 [batch_size, 128]\n",
    "# RELU\n",
    "\n",
    "# fc2w [128, 10]\n",
    "# FC2 [batch_size, 10]\n",
    "# Softmax\n",
    "\n",
    "X  = tf.placeholder(tf.float32, shape=[batch_size, X_SZ, Y_SZ, NCHAN])\n",
    "Y_ = tf.placeholder(tf.float32, shape=[batch_size, n_classes])\n",
    "keep_prob = tf.placeholder(tf.float32)\n",
    "\n",
    "################\n",
    "# CONV1\n",
    "C1_SIZE = 5\n",
    "C1_NFILT = 64\n",
    "c1w = var([C1_SIZE, C1_SIZE, NCHAN, C1_NFILT])\n",
    "c1b = var([C1_NFILT]) # Why do biases correspond to NFILT?\n",
    "CONV1 = tf.nn.conv2d(X, c1w, [1, 1, 1, 1], padding='SAME') + c1b\n",
    "R1 = tf.nn.relu(CONV1)\n",
    "\n",
    "# NORM1\n",
    "N1 = lrn(R1)\n",
    "\n",
    "# POOL1\n",
    "S1 = maxpool_1_1(N1)\n",
    "S1 = tf.nn.dropout(S1, keep_prob)\n",
    "################\n",
    "\n",
    "################\n",
    "# CONV2\n",
    "C2_SIZE = 5\n",
    "C2_NFILT = 64\n",
    "c2w = var([C2_SIZE, C2_SIZE, C1_NFILT, C2_NFILT])\n",
    "c2b = var([C2_NFILT])\n",
    "CONV2 = tf.nn.conv2d(S1, c2w, [1, 1, 1, 1], padding='SAME') + c2b\n",
    "R2 = tf.nn.relu(CONV2)\n",
    "\n",
    "# NORM2\n",
    "N2 = lrn(R2)\n",
    "\n",
    "# POOL2\n",
    "S2 = maxpool_1_1(N2)\n",
    "S2 = tf.nn.dropout(S2, keep_prob)\n",
    "################\n",
    "\n",
    "# ################\n",
    "# # CONV3\n",
    "# C3_SIZE = 5\n",
    "# C3_NFILT = 64\n",
    "# c3w = var([C3_SIZE, C3_SIZE, C2_NFILT, C3_NFILT])\n",
    "# c3b = var([C3_NFILT])\n",
    "# CONV3 = tf.nn.conv2d(S2, c2w, [1, 1, 1, 1], padding='SAME') + c3b\n",
    "# R3 = tf.nn.relu(CONV3)\n",
    "\n",
    "# # NORM3\n",
    "# N3 = lrn(R3)\n",
    "\n",
    "# # POOL3\n",
    "# S3 = maxpool_1_1(N3)\n",
    "# S3 = tf.nn.dropout(S3, keep_prob)\n",
    "# ################\n",
    "\n",
    "################\n",
    "# RESHAPE\n",
    "S2r = tf.reshape(S2, [batch_size, -1])\n",
    "################\n",
    "\n",
    "################\n",
    "# FC1\n",
    "s2rshape = S2r.get_shape()\n",
    "FC1_NNODES = 256\n",
    "fc1w = var([s2rshape.dims[-1].value, FC1_NNODES]) # should be [4*4*64=4096, FC1_NNODES]\n",
    "fc1b = var([FC1_NNODES])\n",
    "FC1 = tf.matmul(S2r, fc1w)\n",
    "R3 = tf.nn.relu(FC1 + fc1b)\n",
    "R3 = tf.nn.dropout(R3, keep_prob)\n",
    "################\n",
    "\n",
    "################\n",
    "# FC2\n",
    "fc2w = var([FC1_NNODES, n_classes])\n",
    "fc2b = var([n_classes])\n",
    "FC2 = tf.matmul(R3, fc2w)\n",
    "FC2 = tf.nn.dropout(FC2, keep_prob)\n",
    "pred = tf.nn.softmax(FC2)\n",
    "################"
   ]
  },
  {
   "cell_type": "markdown",
   "metadata": {},
   "source": [
    "#### Define Metrics"
   ]
  },
  {
   "cell_type": "code",
   "execution_count": 56,
   "metadata": {
    "collapsed": false
   },
   "outputs": [],
   "source": [
    "# Define Loss\n",
    "cross_entropy = tf.nn.softmax_cross_entropy_with_logits(FC2, Y_)\n",
    "regularizer = (\n",
    "      tf.nn.l2_loss(c1w)\n",
    "    + tf.nn.l2_loss(c2w)\n",
    "#     + tf.nn.l2_loss(c3w)\n",
    "    + tf.nn.l2_loss(fc1w)\n",
    "    + tf.nn.l2_loss(fc2w)\n",
    ")\n",
    "beta = 0.00 # including regularization (w/ or w/o dropout causes a lack of convergence)\n",
    "cross_entropy_mean = tf.reduce_mean(cross_entropy + (beta * regularizer))\n",
    "\n",
    "# # Decay the learning rate exponentially based on the number of steps.\n",
    "# \"\"\"\n",
    "#     global_step: Integer Variable counting the number of training steps\n",
    "#       processed.\n",
    "# \"\"\"\n",
    "# # num_batches_per_epoch = NUM_EXAMPLES_PER_EPOCH_FOR_TRAIN / FLAGS.batch_size\n",
    "# # decay_steps = int(num_batches_per_epoch * NUM_EPOCHS_PER_DECAY)\n",
    "# decay_steps = 5\n",
    "# LEARNING_RATE_DECAY_FACTOR = 0.1  # Learning rate decay factor.\n",
    "# INITIAL_LEARNING_RATE = 0.1       # Initial learning rate.\n",
    "# lr = tf.train.exponential_decay(INITIAL_LEARNING_RATE,\n",
    "#                               1,\n",
    "#                               decay_steps,\n",
    "#                               LEARNING_RATE_DECAY_FACTOR,\n",
    "#                               staircase=True)\n",
    "\n",
    "# Define Optimizer\n",
    "lr = tf.placeholder(tf.float32)\n",
    "INIT_LR = 0.01\n",
    "optimizer = tf.train.AdamOptimizer(lr)\n",
    "\n",
    "# Define optimizer goal\n",
    "training_step = optimizer.minimize(cross_entropy_mean)\n",
    "\n",
    "# Accuracy metric\n",
    "pred_category = tf.argmax(pred, 1)\n",
    "true_category = tf.argmax(Y_, 1)\n",
    "eq = tf.equal(pred_category, true_category)\n",
    "accuracy = tf.reduce_mean(tf.cast(eq, tf.float32))"
   ]
  },
  {
   "cell_type": "markdown",
   "metadata": {},
   "source": [
    "### Question 3\n",
    "\n",
    "_What does your final architecture look like? (Type of model, layers, sizes, connectivity, etc.)  For reference on how to build a deep neural network using TensorFlow, see [Deep Neural Network in TensorFlow\n",
    "](https://classroom.udacity.com/nanodegrees/nd013/parts/fbf77062-5703-404e-b60c-95b78b2f3f9e/modules/6df7ae49-c61c-4bb2-a23e-6527e69209ec/lessons/b516a270-8600-4f93-a0a3-20dfeabe5da6/concepts/83a3a2a2-a9bd-4b7b-95b0-eb924ab14432) from the classroom._\n"
   ]
  },
  {
   "cell_type": "markdown",
   "metadata": {},
   "source": [
    "**Answer:**"
   ]
  },
  {
   "cell_type": "code",
   "execution_count": 57,
   "metadata": {
    "collapsed": false,
    "scrolled": false
   },
   "outputs": [
    {
     "name": "stdout",
     "output_type": "stream",
     "text": [
      "EPOCH 0 LR:  0.01\n",
      "Trng set accurcy: 0.0439453\n",
      "Test set accurcy: 0.0366211 \n",
      "\n",
      "Trng set accurcy: 0.0556641\n",
      "Test set accurcy: 0.0522461 \n",
      "\n",
      "Trng set accurcy: 0.0595703\n",
      "Test set accurcy: 0.0634766 \n",
      "\n",
      "Trng set accurcy: 0.0673828\n",
      "Test set accurcy: 0.0756836 \n",
      "\n",
      "Trng set accurcy: 0.130859\n",
      "Test set accurcy: 0.115234 \n",
      "\n",
      "EPOCH 1 LR:  0.009000000000000001\n",
      "Trng set accurcy: 0.222656\n",
      "Test set accurcy: 0.179688 \n",
      "\n",
      "Trng set accurcy: 0.328125\n",
      "Test set accurcy: 0.279297 \n",
      "\n",
      "Trng set accurcy: 0.414551\n",
      "Test set accurcy: 0.358398 \n",
      "\n",
      "Trng set accurcy: 0.470215\n",
      "Test set accurcy: 0.412598 \n",
      "\n",
      "Trng set accurcy: 0.513184\n",
      "Test set accurcy: 0.441406 \n",
      "\n",
      "EPOCH 2 LR:  0.008100000000000001\n",
      "Trng set accurcy: 0.618652\n",
      "Test set accurcy: 0.524902 \n",
      "\n",
      "Trng set accurcy: 0.661133\n",
      "Test set accurcy: 0.55957 \n",
      "\n",
      "Trng set accurcy: 0.695312\n",
      "Test set accurcy: 0.599609 \n",
      "\n",
      "Trng set accurcy: 0.740723\n",
      "Test set accurcy: 0.638184 \n",
      "\n",
      "Trng set accurcy: 0.781738\n",
      "Test set accurcy: 0.671387 \n",
      "\n",
      "EPOCH 3 LR:  0.007290000000000001\n",
      "Trng set accurcy: 0.794434\n",
      "Test set accurcy: 0.670898 \n",
      "\n",
      "Trng set accurcy: 0.810059\n",
      "Test set accurcy: 0.702637 \n",
      "\n",
      "Trng set accurcy: 0.831543\n",
      "Test set accurcy: 0.693359 \n",
      "\n",
      "Trng set accurcy: 0.845215\n",
      "Test set accurcy: 0.719238 \n",
      "\n",
      "Trng set accurcy: 0.873535\n",
      "Test set accurcy: 0.738281 \n",
      "\n",
      "EPOCH 4 LR:  0.006561\n",
      "Trng set accurcy: 0.86377\n",
      "Test set accurcy: 0.738281 \n",
      "\n",
      "Trng set accurcy: 0.873535\n",
      "Test set accurcy: 0.742188 \n",
      "\n",
      "Trng set accurcy: 0.873535\n",
      "Test set accurcy: 0.739746 \n",
      "\n",
      "Trng set accurcy: 0.899414\n",
      "Test set accurcy: 0.758301 \n",
      "\n",
      "Trng set accurcy: 0.913574\n",
      "Test set accurcy: 0.774414 \n",
      "\n",
      "EPOCH 5 LR:  0.005904900000000001\n",
      "Trng set accurcy: 0.902832\n",
      "Test set accurcy: 0.760742 \n",
      "\n",
      "Trng set accurcy: 0.922852\n",
      "Test set accurcy: 0.771973 \n",
      "\n",
      "Trng set accurcy: 0.914062\n",
      "Test set accurcy: 0.769043 \n",
      "\n",
      "Trng set accurcy: 0.920898\n",
      "Test set accurcy: 0.764648 \n",
      "\n",
      "Trng set accurcy: 0.927734\n",
      "Test set accurcy: 0.779297 \n",
      "\n",
      "EPOCH 6 LR:  0.00531441\n",
      "Trng set accurcy: 0.925293\n",
      "Test set accurcy: 0.78125 \n",
      "\n",
      "Trng set accurcy: 0.935547\n",
      "Test set accurcy: 0.772461 \n",
      "\n",
      "Trng set accurcy: 0.931641\n",
      "Test set accurcy: 0.783203 \n",
      "\n",
      "Trng set accurcy: 0.932129\n",
      "Test set accurcy: 0.776855 \n",
      "\n",
      "Trng set accurcy: 0.945801\n",
      "Test set accurcy: 0.790039 \n",
      "\n",
      "EPOCH 7 LR:  0.004782969000000001\n",
      "Trng set accurcy: 0.92627\n",
      "Test set accurcy: 0.776855 \n",
      "\n",
      "Trng set accurcy: 0.944336\n",
      "Test set accurcy: 0.783691 \n",
      "\n",
      "Trng set accurcy: 0.940918\n",
      "Test set accurcy: 0.780762 \n",
      "\n",
      "Trng set accurcy: 0.954102\n",
      "Test set accurcy: 0.795898 \n",
      "\n",
      "Trng set accurcy: 0.954102\n",
      "Test set accurcy: 0.782227 \n",
      "\n",
      "EPOCH 8 LR:  0.004304672100000001\n",
      "Trng set accurcy: 0.94873\n",
      "Test set accurcy: 0.80127 \n",
      "\n",
      "Trng set accurcy: 0.955566\n",
      "Test set accurcy: 0.789062 \n",
      "\n",
      "Trng set accurcy: 0.952637\n",
      "Test set accurcy: 0.789551 \n",
      "\n",
      "Trng set accurcy: 0.956055\n",
      "Test set accurcy: 0.797363 \n",
      "\n",
      "Trng set accurcy: 0.953613\n",
      "Test set accurcy: 0.789551 \n",
      "\n",
      "EPOCH 9 LR:  0.003874204890000001\n",
      "Trng set accurcy: 0.950195\n",
      "Test set accurcy: 0.796875 \n",
      "\n",
      "Trng set accurcy: 0.958496\n",
      "Test set accurcy: 0.791016 \n",
      "\n",
      "Trng set accurcy: 0.95752\n",
      "Test set accurcy: 0.788574 \n",
      "\n",
      "Trng set accurcy: 0.966797\n",
      "Test set accurcy: 0.804199 \n",
      "\n",
      "Trng set accurcy: 0.965332\n",
      "Test set accurcy: 0.793945 \n",
      "\n",
      "EPOCH 10 LR:  0.003486784401000001\n",
      "Trng set accurcy: 0.955078\n",
      "Test set accurcy: 0.801758 \n",
      "\n",
      "Trng set accurcy: 0.963867\n",
      "Test set accurcy: 0.79834 \n",
      "\n",
      "Trng set accurcy: 0.962402\n",
      "Test set accurcy: 0.79248 \n",
      "\n",
      "Trng set accurcy: 0.964355\n",
      "Test set accurcy: 0.80127 \n",
      "\n",
      "Trng set accurcy: 0.966309\n",
      "Test set accurcy: 0.799316 \n",
      "\n",
      "EPOCH 11 LR:  0.0031381059609000006\n",
      "Trng set accurcy: 0.959473\n",
      "Test set accurcy: 0.796875 \n",
      "\n",
      "Trng set accurcy: 0.973145\n",
      "Test set accurcy: 0.807129 \n",
      "\n",
      "Trng set accurcy: 0.970215\n",
      "Test set accurcy: 0.791992 \n",
      "\n",
      "Trng set accurcy: 0.969238\n",
      "Test set accurcy: 0.799805 \n",
      "\n",
      "Trng set accurcy: 0.97168\n",
      "Test set accurcy: 0.798828 \n",
      "\n",
      "EPOCH 12 LR:  0.0028242953648100013\n",
      "Trng set accurcy: 0.96875\n",
      "Test set accurcy: 0.800293 \n",
      "\n",
      "Trng set accurcy: 0.975098\n",
      "Test set accurcy: 0.80127 \n",
      "\n",
      "Trng set accurcy: 0.975098\n",
      "Test set accurcy: 0.805664 \n",
      "\n",
      "Trng set accurcy: 0.975586\n",
      "Test set accurcy: 0.800293 \n",
      "\n",
      "Trng set accurcy: 0.978027\n",
      "Test set accurcy: 0.797852 \n",
      "\n",
      "EPOCH 13 LR:  0.002541865828329001\n",
      "Trng set accurcy: 0.969238\n",
      "Test set accurcy: 0.80127 \n",
      "\n",
      "Trng set accurcy: 0.977051\n",
      "Test set accurcy: 0.800781 \n",
      "\n",
      "Trng set accurcy: 0.975098\n",
      "Test set accurcy: 0.799316 \n",
      "\n",
      "Trng set accurcy: 0.978516\n",
      "Test set accurcy: 0.799805 \n",
      "\n",
      "Trng set accurcy: 0.975586\n",
      "Test set accurcy: 0.799805 \n",
      "\n",
      "EPOCH 14 LR:  0.002287679245496101\n",
      "Trng set accurcy: 0.972656\n",
      "Test set accurcy: 0.807617 \n",
      "\n",
      "Trng set accurcy: 0.975098\n",
      "Test set accurcy: 0.814941 \n",
      "\n",
      "Trng set accurcy: 0.974121\n",
      "Test set accurcy: 0.795898 \n",
      "\n",
      "Trng set accurcy: 0.978516\n",
      "Test set accurcy: 0.79834 \n",
      "\n",
      "Trng set accurcy: 0.980469\n",
      "Test set accurcy: 0.806641 \n",
      "\n",
      "EPOCH 15 LR:  0.002058911320946491\n",
      "Trng set accurcy: 0.978516\n",
      "Test set accurcy: 0.810059 \n",
      "\n",
      "Trng set accurcy: 0.977539\n",
      "Test set accurcy: 0.808594 \n",
      "\n",
      "Trng set accurcy: 0.977051\n",
      "Test set accurcy: 0.799316 \n",
      "\n",
      "Trng set accurcy: 0.97998\n",
      "Test set accurcy: 0.801758 \n",
      "\n",
      "Trng set accurcy: 0.980469\n",
      "Test set accurcy: 0.802246 \n",
      "\n",
      "EPOCH 16 LR:  0.0018530201888518416\n",
      "Trng set accurcy: 0.979004\n",
      "Test set accurcy: 0.812012 \n",
      "\n",
      "Trng set accurcy: 0.983398\n",
      "Test set accurcy: 0.81543 \n",
      "\n",
      "Trng set accurcy: 0.981445\n",
      "Test set accurcy: 0.795898 \n",
      "\n",
      "Trng set accurcy: 0.983887\n",
      "Test set accurcy: 0.804688 \n",
      "\n",
      "Trng set accurcy: 0.980469\n",
      "Test set accurcy: 0.800781 \n",
      "\n",
      "EPOCH 17 LR:  0.0016677181699666576\n",
      "Trng set accurcy: 0.977051\n",
      "Test set accurcy: 0.801758 \n",
      "\n",
      "Trng set accurcy: 0.983398\n",
      "Test set accurcy: 0.811523 \n",
      "\n",
      "Trng set accurcy: 0.983887\n",
      "Test set accurcy: 0.812988 \n",
      "\n",
      "Trng set accurcy: 0.97998\n",
      "Test set accurcy: 0.796875 \n",
      "\n",
      "Trng set accurcy: 0.98291\n",
      "Test set accurcy: 0.807129 \n",
      "\n",
      "EPOCH 18 LR:  0.0015009463529699917\n",
      "Trng set accurcy: 0.981445\n",
      "Test set accurcy: 0.80957 \n",
      "\n",
      "Trng set accurcy: 0.985352\n",
      "Test set accurcy: 0.807129 \n",
      "\n",
      "Trng set accurcy: 0.986816\n",
      "Test set accurcy: 0.813477 \n",
      "\n",
      "Trng set accurcy: 0.984863\n",
      "Test set accurcy: 0.808105 \n",
      "\n",
      "Trng set accurcy: 0.988281\n",
      "Test set accurcy: 0.800293 \n",
      "\n",
      "EPOCH 19 LR:  0.0013508517176729928\n",
      "Trng set accurcy: 0.98291\n",
      "Test set accurcy: 0.806641 \n",
      "\n",
      "Trng set accurcy: 0.989258\n",
      "Test set accurcy: 0.809082 \n",
      "\n",
      "Trng set accurcy: 0.989746\n",
      "Test set accurcy: 0.811523 \n",
      "\n",
      "Trng set accurcy: 0.986328\n",
      "Test set accurcy: 0.808105 \n",
      "\n",
      "Trng set accurcy: 0.988281\n",
      "Test set accurcy: 0.807617 \n",
      "\n",
      "Done!\n"
     ]
    }
   ],
   "source": [
    "### Train your model here.\n",
    "### Feel free to use as many code cells as needed.\n",
    "\n",
    "# logs_path = './log/4'\n",
    "# tf.summary.scalar(\"loss\", cross_entropy_mean)\n",
    "# tf.summary.scalar(\"accuracy\", accuracy)\n",
    "# tf.summary.scalar(\"learning_rate\", lr)\n",
    "# summary_op = tf.summary.merge_all()\n",
    "\n",
    "# Run!\n",
    "BATCH_SIZE = batch_size\n",
    "init = tf.global_variables_initializer()\n",
    "with tf.Session(config=tf.ConfigProto(log_device_placement=True)) as sess: #config=tf.ConfigProto(log_device_placement=True)\n",
    "    sess.run(init)\n",
    "\n",
    "    for repeat in range(20):\n",
    "#         writer = tf.summary.FileWriter(logs_path, graph=tf.get_default_graph())\n",
    "        learning_rate = (0.90 ** (repeat)) * INIT_LR\n",
    "        print(\"EPOCH\", repeat, \"LR: \", learning_rate)\n",
    "        for batch_num in range(len(X_train) // BATCH_SIZE):\n",
    "            batch_x = X_train[batch_num*BATCH_SIZE : (batch_num+1)*BATCH_SIZE]\n",
    "            batch_y = y_train_one_hot[batch_num*BATCH_SIZE : (batch_num+1)*BATCH_SIZE]\n",
    "            load = {\n",
    "                X : batch_x,\n",
    "                Y_: batch_y,\n",
    "                keep_prob: 1, # adding dropout w/ or w/o regularization prevents convergence\n",
    "                lr: learning_rate\n",
    "            }\n",
    "            sess.run(training_step, feed_dict=load)\n",
    "#             _, summary = sess.run([training_step, summary_op], feed_dict=load)\n",
    "#             writer.add_summary(summary, repeat * len(X_train) + batch_num*BATCH_SIZE)\n",
    "\n",
    "            if batch_num % 4 == 0:\n",
    "                acc = sess.run(accuracy, feed_dict=load)\n",
    "                print(\"Trng set accurcy:\", acc)\n",
    "\n",
    "                batch_x = X_test[:BATCH_SIZE]\n",
    "                batch_y = y_test_one_hot[:BATCH_SIZE]\n",
    "                load = {\n",
    "                    X : batch_x,\n",
    "                    Y_: batch_y,\n",
    "                    keep_prob: 1,\n",
    "                }\n",
    "                acc = sess.run(accuracy, feed_dict=load)\n",
    "                print(\"Test set accurcy:\", acc, '\\n')\n",
    "print('Done!')"
   ]
  },
  {
   "cell_type": "markdown",
   "metadata": {},
   "source": [
    "### Question 4\n",
    "\n",
    "_How did you train your model? (Type of optimizer, batch size, epochs, hyperparameters, etc.)_\n"
   ]
  },
  {
   "cell_type": "markdown",
   "metadata": {},
   "source": [
    "**Answer:**"
   ]
  },
  {
   "cell_type": "markdown",
   "metadata": {},
   "source": [
    "### Question 5\n",
    "\n",
    "\n",
    "_What approach did you take in coming up with a solution to this problem? It may have been a process of trial and error, in which case, outline the steps you took to get to the final solution and why you chose those steps. Perhaps your solution involved an already well known implementation or architecture. In this case, discuss why you think this is suitable for the current problem._"
   ]
  },
  {
   "cell_type": "markdown",
   "metadata": {},
   "source": [
    "**Answer:**"
   ]
  },
  {
   "cell_type": "markdown",
   "metadata": {},
   "source": [
    "---\n",
    "\n",
    "## Step 3: Test a Model on New Images\n",
    "\n",
    "Take several pictures of traffic signs that you find on the web or around you (at least five), and run them through your classifier on your computer to produce example results. The classifier might not recognize some local signs but it could prove interesting nonetheless.\n",
    "\n",
    "You may find `signnames.csv` useful as it contains mappings from the class id (integer) to the actual sign name."
   ]
  },
  {
   "cell_type": "markdown",
   "metadata": {},
   "source": [
    "### Implementation\n",
    "\n",
    "Use the code cell (or multiple code cells, if necessary) to implement the first step of your project. Once you have completed your implementation and are satisfied with the results, be sure to thoroughly answer the questions that follow."
   ]
  },
  {
   "cell_type": "code",
   "execution_count": 52,
   "metadata": {
    "collapsed": true
   },
   "outputs": [],
   "source": [
    "### Load the images and plot them here.\n",
    "### Feel free to use as many code cells as needed."
   ]
  },
  {
   "cell_type": "markdown",
   "metadata": {},
   "source": [
    "### Question 6\n",
    "\n",
    "_Choose five candidate images of traffic signs and provide them in the report. Are there any particular qualities of the image(s) that might make classification difficult? It could be helpful to plot the images in the notebook._\n",
    "\n"
   ]
  },
  {
   "cell_type": "markdown",
   "metadata": {},
   "source": [
    "**Answer:**"
   ]
  },
  {
   "cell_type": "code",
   "execution_count": 53,
   "metadata": {
    "collapsed": true
   },
   "outputs": [],
   "source": [
    "### Run the predictions here.\n",
    "### Feel free to use as many code cells as needed."
   ]
  },
  {
   "cell_type": "markdown",
   "metadata": {},
   "source": [
    "### Question 7\n",
    "\n",
    "_Is your model able to perform equally well on captured pictures when compared to testing on the dataset? The simplest way to do this check the accuracy of the predictions. For example, if the model predicted 1 out of 5 signs correctly, it's 20% accurate._\n",
    "\n",
    "_**NOTE:** You could check the accuracy manually by using `signnames.csv` (same directory). This file has a mapping from the class id (0-42) to the corresponding sign name. So, you could take the class id the model outputs, lookup the name in `signnames.csv` and see if it matches the sign from the image._\n"
   ]
  },
  {
   "cell_type": "markdown",
   "metadata": {},
   "source": [
    "**Answer:**"
   ]
  },
  {
   "cell_type": "code",
   "execution_count": 54,
   "metadata": {
    "collapsed": true
   },
   "outputs": [],
   "source": [
    "### Visualize the softmax probabilities here.\n",
    "### Feel free to use as many code cells as needed."
   ]
  },
  {
   "cell_type": "markdown",
   "metadata": {},
   "source": [
    "### Question 8\n",
    "\n",
    "*Use the model's softmax probabilities to visualize the **certainty** of its predictions, [`tf.nn.top_k`](https://www.tensorflow.org/versions/r0.12/api_docs/python/nn.html#top_k) could prove helpful here. Which predictions is the model certain of? Uncertain? If the model was incorrect in its initial prediction, does the correct prediction appear in the top k? (k should be 5 at most)*\n",
    "\n",
    "`tf.nn.top_k` will return the values and indices (class ids) of the top k predictions. So if k=3, for each sign, it'll return the 3 largest probabilities (out of a possible 43) and the correspoding class ids.\n",
    "\n",
    "Take this numpy array as an example:\n",
    "\n",
    "```\n",
    "# (5, 6) array\n",
    "a = np.array([[ 0.24879643,  0.07032244,  0.12641572,  0.34763842,  0.07893497,\n",
    "         0.12789202],\n",
    "       [ 0.28086119,  0.27569815,  0.08594638,  0.0178669 ,  0.18063401,\n",
    "         0.15899337],\n",
    "       [ 0.26076848,  0.23664738,  0.08020603,  0.07001922,  0.1134371 ,\n",
    "         0.23892179],\n",
    "       [ 0.11943333,  0.29198961,  0.02605103,  0.26234032,  0.1351348 ,\n",
    "         0.16505091],\n",
    "       [ 0.09561176,  0.34396535,  0.0643941 ,  0.16240774,  0.24206137,\n",
    "         0.09155967]])\n",
    "```\n",
    "\n",
    "Running it through `sess.run(tf.nn.top_k(tf.constant(a), k=3))` produces:\n",
    "\n",
    "```\n",
    "TopKV2(values=array([[ 0.34763842,  0.24879643,  0.12789202],\n",
    "       [ 0.28086119,  0.27569815,  0.18063401],\n",
    "       [ 0.26076848,  0.23892179,  0.23664738],\n",
    "       [ 0.29198961,  0.26234032,  0.16505091],\n",
    "       [ 0.34396535,  0.24206137,  0.16240774]]), indices=array([[3, 0, 5],\n",
    "       [0, 1, 4],\n",
    "       [0, 5, 1],\n",
    "       [1, 3, 5],\n",
    "       [1, 4, 3]], dtype=int32))\n",
    "```\n",
    "\n",
    "Looking just at the first row we get `[ 0.34763842,  0.24879643,  0.12789202]`, you can confirm these are the 3 largest probabilities in `a`. You'll also notice `[3, 0, 5]` are the corresponding indices."
   ]
  },
  {
   "cell_type": "markdown",
   "metadata": {},
   "source": [
    "**Answer:**"
   ]
  },
  {
   "cell_type": "markdown",
   "metadata": {},
   "source": [
    "> **Note**: Once you have completed all of the code implementations and successfully answered each question above, you may finalize your work by exporting the iPython Notebook as an HTML document. You can do this by using the menu above and navigating to  \\n\",\n",
    "    \"**File -> Download as -> HTML (.html)**. Include the finished document along with this notebook as your submission."
   ]
  },
  {
   "cell_type": "code",
   "execution_count": null,
   "metadata": {
    "collapsed": true
   },
   "outputs": [],
   "source": []
  }
 ],
 "metadata": {
  "anaconda-cloud": {},
  "kernelspec": {
   "display_name": "Python 3",
   "language": "python",
   "name": "python3"
  },
  "language_info": {
   "codemirror_mode": {
    "name": "ipython",
    "version": 3
   },
   "file_extension": ".py",
   "mimetype": "text/x-python",
   "name": "python",
   "nbconvert_exporter": "python",
   "pygments_lexer": "ipython3",
   "version": "3.4.3"
  }
 },
 "nbformat": 4,
 "nbformat_minor": 1
}
